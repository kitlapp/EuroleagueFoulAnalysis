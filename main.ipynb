{
 "cells": [
  {
   "cell_type": "markdown",
   "id": "3a2b3049-8909-4850-a87b-98dd3207464c",
   "metadata": {},
   "source": [
    "# Euroleague Foul Drawn Analysis & Application of Hypothesis Testing"
   ]
  },
  {
   "cell_type": "markdown",
   "id": "2c067ce4-cbd8-41ae-9226-572166beb053",
   "metadata": {},
   "source": [
    "## Project Description"
   ]
  },
  {
   "cell_type": "markdown",
   "id": "7f46a4cf-7019-4788-8faa-8572d6aa0699",
   "metadata": {},
   "source": [
    "<div style=\"text-align: justify;\">\n",
    "The goal of this project is to take a look at historical Euroleague data related to fouls drawn per season. We will try to give some insights and investigate if there are any specific patterns around this data. Bad referee's calls cannot be proven and the scientific approach of this project will be shaked if claiming such a thing. However, we can investigate patterns related to the general referee's decisions for each year. Additionally, this project is giving the opportunity to study some strange data cases rarely occurred through the years.\n",
    "</div>"
   ]
  },
  {
   "cell_type": "markdown",
   "id": "b309d070-cf0e-4293-b4c9-184917fe5990",
   "metadata": {},
   "source": [
    "## Imported Datasets Description"
   ]
  },
  {
   "cell_type": "markdown",
   "id": "9f8d9bf9-f65f-468d-b2ab-e58b09f173e2",
   "metadata": {},
   "source": [
    "<div style=\"text-align: justify;\">\n",
    "Each Excel dataset includes the 50 most fouled players of the corresponding Euroleague season. For instance, \"fouls_23_24.xlsx\" includes the 50 most fouled players of the Euroleague 2023-2024 season. The raw total fouls were counted for this datalist, and no normalizations were made prior to this project. The columns \"Player\", \"Team\", \"Fouled (Total)\", \"Games\" were acquired from https://basketnews.com/leagues/25-euroleague/statistics.html. The rest of the Excel columns, i.e., \"Minutes per Game\" and \"Position\" were manually completed by myself looking at Euroleague's official site https://www.euroleaguebasketball.net/euroleague/?geoip=disabled.\n",
    "</div>"
   ]
  },
  {
   "cell_type": "markdown",
   "id": "2806622d-dce1-40ce-9789-0f086d3d4b5f",
   "metadata": {},
   "source": [
    "## Ensure the Correct Environment - Import Libraries - Read Excel Datafiles"
   ]
  },
  {
   "cell_type": "code",
   "execution_count": null,
   "id": "03917d63-cb02-4b3c-a2ff-f05d81c3224c",
   "metadata": {},
   "outputs": [],
   "source": [
    "# Check the environment the jupyter server is running in:\n",
    "import sys\n",
    "sys.executable"
   ]
  },
  {
   "cell_type": "code",
   "execution_count": null,
   "id": "31a673a7-87c6-4954-acde-18fee51a62c8",
   "metadata": {},
   "outputs": [],
   "source": [
    "# Import Libraries\n",
    "from scipy.stats import t\n",
    "import warnings\n",
    "import numpy as np\n",
    "import pandas as pd\n",
    "import matplotlib.pyplot as plt\n",
    "import seaborn as sns\n",
    "import plotly.express as px"
   ]
  },
  {
   "cell_type": "code",
   "execution_count": null,
   "id": "2f05a1e7-18ee-4aa1-a14b-9b56e8583c73",
   "metadata": {},
   "outputs": [],
   "source": [
    "# Create the list of Excel files:\n",
    "excel_datafiles = [\"fouls_23_24.xlsx\", \"fouls_22_23.xlsx\", \"fouls_21_22.xlsx\", \"fouls_20_21.xlsx\", \"fouls_19_20.xlsx\"]\n",
    "\n",
    "# Create an empty list:\n",
    "df_list = []\n",
    "\n",
    "# Iterate through the Excel datalist and read each file into a Pandas DataFrame (df):\n",
    "df_list = [pd.read_excel(file) for file in excel_datafiles]\n",
    "\n",
    "# Create the df with most fouled players of all seasons combined:\n",
    "combined_df = pd.concat(df_list, ignore_index=True)\n",
    "\n",
    "# Create the 2023-2024 season df:\n",
    "df_2324 = pd.read_excel(excel_datafiles[0])\n",
    "\n",
    "# Create the 2022-2023 season df:\n",
    "df_2223 = pd.read_excel(excel_datafiles[1])\n",
    "\n",
    "# Create the 2023-2024 season df:\n",
    "df_2122 = pd.read_excel(excel_datafiles[2])\n",
    "\n",
    "# Create the 2023-2024 season df:\n",
    "df_2021 = pd.read_excel(excel_datafiles[3])\n",
    "\n",
    "# Create the 2023-2024 season df:\n",
    "df_1920 = pd.read_excel(excel_datafiles[4])"
   ]
  },
  {
   "cell_type": "markdown",
   "id": "0da0372b-b280-4fca-a070-d9c68b9b2eb9",
   "metadata": {},
   "source": [
    "## Euroleague 2023-2024 Season"
   ]
  },
  {
   "cell_type": "markdown",
   "id": "c347c412-00a1-46ba-a0ae-7885ffde079f",
   "metadata": {},
   "source": [
    "### Data Cleaning and Feature Engineering"
   ]
  },
  {
   "cell_type": "code",
   "execution_count": null,
   "id": "6cc7d1b0-0272-4962-8c7e-e894947ab97e",
   "metadata": {},
   "outputs": [],
   "source": [
    "# Split the \"minutes_per_game\" column to two columns:\n",
    "df_2324[[\"minutes\", \"seconds\"]] = df_2324[\"Minutes per Game\"].str.split(\"k\", expand=True)\n",
    "\n",
    "# Change the dtypes of the newly created columns:\n",
    "df_2324[\"minutes\"] = df_2324[\"minutes\"].astype(int)\n",
    "df_2324[\"seconds\"] = df_2324[\"seconds\"].astype(int)\n",
    "\n",
    "# Create the final column showing the average player time per game in seconds:\n",
    "df_2324[\"Seconds per Game\"] = (df_2324[\"minutes\"]*60 + df_2324[\"seconds\"]).astype(\"int64\")\n",
    "\n",
    "# Drop the unecessary columns:\n",
    "df_2324 = df_2324.drop(columns=[\"Minutes per Game\", \"minutes\", \"seconds\"])\n",
    "\n",
    "# Normalize fouls per game by creating the \"fouls per game\" column:\n",
    "df_2324[\"Fouled per Game\"] = df_2324[\"Fouled (Total)\"] / df_2324[\"Games\"]\n",
    "\n",
    "# Normalize fouls per 40 minutes (2400 seconds) by creating the \"fouls per 40 mins\" column:\n",
    "df_2324[\"Fouled per 40 Minutes\"] = round(2400 * df_2324[\"Fouled per Game\"] / df_2324[\"Seconds per Game\"], 2)"
   ]
  },
  {
   "cell_type": "code",
   "execution_count": null,
   "id": "b45299ac-ad2e-47bb-bd78-37ef212f3586",
   "metadata": {},
   "outputs": [],
   "source": [
    "# Check the above cell's code:\n",
    "print(df_2324.info())\n",
    "df_2324.head()"
   ]
  },
  {
   "cell_type": "markdown",
   "id": "ee23aadb-2782-4a8f-99f5-2b889b392818",
   "metadata": {},
   "source": [
    "The code is correct. The same code will be used for the other data frames as well."
   ]
  },
  {
   "cell_type": "markdown",
   "id": "b15507ed-9946-424e-bee6-33cf1faef266",
   "metadata": {},
   "source": [
    "### Exploratory Data Analysis and Descriptive Statistics"
   ]
  },
  {
   "cell_type": "code",
   "execution_count": null,
   "id": "30597962-3f3d-4bb5-ad39-96dc74e53045",
   "metadata": {},
   "outputs": [],
   "source": [
    "# Present some basic statistics:\n",
    "df_2324.describe().transpose()"
   ]
  },
  {
   "cell_type": "code",
   "execution_count": null,
   "id": "83a18239-bd78-415f-9b89-447627b3ffce",
   "metadata": {},
   "outputs": [],
   "source": [
    "# Select the numerical columns:\n",
    "num_cols_2324 = df_2324.select_dtypes(include=[\"int64\", \"float64\"])\n",
    "\n",
    "# Display a correlation matrix for the numerical columns:\n",
    "num_cols_2324.corr()"
   ]
  },
  {
   "cell_type": "markdown",
   "id": "47dee23b-ded1-40fb-8d20-cbc33b961245",
   "metadata": {},
   "source": [
    "#### Correlation Matrix Observations\n"
   ]
  },
  {
   "cell_type": "markdown",
   "id": "2ceaad6c-0a4d-4025-a30a-c1ba3f522554",
   "metadata": {},
   "source": [
    "<div style=\"text-align: justify\">\n",
    "Ιt is worth mentioning that there is a negative linear correlation (although weak) between the time-normalized fouls per 40 minutes and both the number of games and the seconds per game. This indicates that as a player participates in more games throughout the season and spends more time on the court, his fouls per 40 minutes tend to decrease. In the context of basketball, this could be due to factors such as fatigue, opponent adaptation and changes of referees' decisions throughout the season or throughout the minutes a player is on the court.\n",
    "</div>"
   ]
  },
  {
   "cell_type": "markdown",
   "id": "1e5d29ed-b785-4c78-9212-aec01001c020",
   "metadata": {},
   "source": [
    "<div style=\"text-align: justify\">\n",
    "Another interesting fact is that there is a weak negative correlation indicating that as the player's height increased the time spent on the court decreased. Watching the Euroleague 2023-2024 season this is not strange. There was a significant try of coaches to rotate the tall players, especially the centers. A basic exception to this rule was Panathinaikos AKTOR Athens where Mathias Lessort lift on his shoulders the center's position during the whole season.\n",
    "</div>"
   ]
  },
  {
   "cell_type": "code",
   "execution_count": null,
   "id": "4b2a48fb-0c45-41e0-be6e-cc19bf42ac15",
   "metadata": {},
   "outputs": [],
   "source": [
    "# Create the boxplot's grid:\n",
    "sns.set(style=\"whitegrid\")\n",
    "\n",
    "# Create the figure and set its size and dpi:\n",
    "plt.figure(figsize=(8, 6), dpi=130)\n",
    "\n",
    "# Create the boxplot showing the mean of the distribution:\n",
    "sns.boxplot(x=df_2324[\"Fouled (Total)\"], showmeans=True, meanline=True)\n",
    "\n",
    "# Set the x-axis ticks, boxplot's title and labels:\n",
    "plt.xticks(range(80, 281, 20))\n",
    "plt.title(\n",
    "    \"Boxplot 1: Distribution of players' total fouls received during the season 2023-2024.\\n\"\n",
    "    \"The green dashed line represents the mean, whereas the whiskers of this boxplot\\n\"\n",
    "    \"range from 86 to 149 total fouls.\")\n",
    "plt.xlabel(\"Total Fouls Received\");\n",
    "\n",
    "plt.savefig('boxplot.png', dpi=300, bbox_inches='tight')"
   ]
  },
  {
   "cell_type": "markdown",
   "id": "404f9750-a3d6-443e-b1aa-e71dff0d192f",
   "metadata": {},
   "source": [
    "<div style=\"text-align: justify\">\n",
    "Boxplot 1 indicates that there are 6 players identified as outliers based on the total fouls gained during the season. One of these players exhibits an extreme deviation from the overall distribution. Since these observations represent raw data, further analysis is required before drawing definitive conclusions. The players identified as outliers are Mathias Lessort, Mike James, Tornike Shengelia, Facundo Campazzo, and Wade Baldwin IV. Additionally, the distribution displays clear right skewness. In the context of basketball, where exceptional players may effectively draw many fouls, it isn't unexpected to observe such a right skewness and a wide data spread to the higher end of this figure.\n",
    "</div>"
   ]
  },
  {
   "cell_type": "code",
   "execution_count": null,
   "id": "5d4d240a-4578-44cc-b725-d5184ebccf98",
   "metadata": {},
   "outputs": [],
   "source": [
    "# Create the boxplot's grid:\n",
    "sns.set(style=\"whitegrid\")\n",
    "\n",
    "# Create the figure and set its size and dpi:\n",
    "plt.figure(figsize=(8, 6), dpi=130)\n",
    "\n",
    "# Create the boxplot showing the mean of the distribution:\n",
    "sns.boxplot(x=df_2324[\"Fouled per Game\"], showmeans=True, meanline=True)\n",
    "\n",
    "# Set the x-axis ticks, boxplot's title and labels:\n",
    "plt.xticks(range(2, 7, 1))\n",
    "plt.title(\n",
    "    \"Boxplot 2: Distribution of players' fouls received per game during the season 2023-2024.\\n\"\n",
    "    \"The whiskers of this boxplot range from 2.15 to 5.51 fouls per game.\")\n",
    "\n",
    "plt.xlabel(\"Fouls Received per Game\");\n",
    "\n",
    "plt.savefig('boxplot2.png', dpi=300, bbox_inches='tight')"
   ]
  },
  {
   "cell_type": "markdown",
   "id": "99cf5525-9a07-43fd-9614-0e7a086a162f",
   "metadata": {},
   "source": [
    "<div style=\"text-align: justify\">\n",
    "The importance of normalization is evident in boxplot 2. The boxplot 1, which used raw data, identified six outliers, with one exhibiting an extreme deviation from the rest of the data. However, boxplot 2, which represents game-normalized fouls drawn, indicates only one outlier and this outlier isn't as extreme as before. The player still identified as an outlier is Mathias Lessort.\n",
    "</div>"
   ]
  },
  {
   "cell_type": "markdown",
   "id": "f0c87d3e-f193-4c26-b996-ecdad49d3e2a",
   "metadata": {},
   "source": [
    "#### Critical Boxplot: Time-Normalized Foules (Foules Drawn per 40 Minutes) 2023-2024 Season"
   ]
  },
  {
   "cell_type": "code",
   "execution_count": null,
   "id": "b29cdb7c-8543-4aee-98ce-59500f4c7915",
   "metadata": {},
   "outputs": [],
   "source": [
    "# Create the boxplot's grid:\n",
    "sns.set(style=\"whitegrid\")\n",
    "\n",
    "# Create the figure and set its size and dpi:\n",
    "plt.figure(figsize=(8, 6), dpi=130)\n",
    "\n",
    "# Create the boxplot showing the mean of the distribution:\n",
    "sns.boxplot(x=df_2324[\"Fouled per 40 Minutes\"], showmeans=True, meanline=True)\n",
    "\n",
    "# Set the x-axis ticks, boxplot's title and labels:\n",
    "plt.xticks(range(3, 10, 1))\n",
    "plt.title(\n",
    "    \"Boxplot 3: Distribution of players' fouls received per 40 minutes. The whiskers of this\\n\"\n",
    "    \"boxplot range from 3.23 to 8.72 fouls per 40 minutes.\")\n",
    "\n",
    "plt.xlabel(\"Fouls Received per 40 Minutes\");\n",
    "\n",
    "plt.savefig('boxplot3.png', dpi=300, bbox_inches='tight')"
   ]
  },
  {
   "cell_type": "markdown",
   "id": "3132ef0a-7ca2-4468-bedc-1e0ce912f6fb",
   "metadata": {},
   "source": [
    "<div style=\"text-align: justify\">\n",
    "Boxplot 3 represents the distribution of time-normalized fouls drawn per 40 minutes. This indicator highlights that while the outlier remains, it is even less extreme than before. Additionally, increased normalization makes the distribution more similar to a normal distribution. The player still identified as an outlier is Mathias Lessort.\n",
    "</div>"
   ]
  },
  {
   "cell_type": "markdown",
   "id": "f2364f91-b124-4cde-9723-e9926115726b",
   "metadata": {},
   "source": [
    "<div style=\"text-align: justify\">\n",
    "An interesting estimator defining the quality of the general referees' approach each Euroleague season may be the range between the max and min value of \"fouls per 40 minutes\" column, excluding the outliers. A small range may indicate a robust referees approach for calling decisions. Specifically, the smaller this range, the less the discriminations between the most fouled players of the season. Additionally, the existence or not of outliers in the above boxplot may be negatively affecting the referees' approach through the season, especially if the outlier has spent so much time on the court and having played so many games as Mathias Lessort.\n",
    "</div>"
   ]
  },
  {
   "cell_type": "markdown",
   "id": "94cf852c-ed85-4746-9d60-c4ef1abcb6e3",
   "metadata": {},
   "source": [
    "  For 2023-2024 season, the range is $5.49$ fouls per 40 minutes and there is identified outlier."
   ]
  },
  {
   "cell_type": "code",
   "execution_count": null,
   "id": "f522b84b-88cf-4c21-b1e9-647bf068743f",
   "metadata": {},
   "outputs": [],
   "source": [
    "# Create a new df without \"Lesort\" observation:\n",
    "df_no_lessort = df_2324.drop(index=0)\n",
    "\n",
    "# Create a table with means per position excluding Lessort from the dataset:\n",
    "df_no_lessort.groupby(\"Position\").mean(\"Fouls per 40 Minutes\").transpose()"
   ]
  },
  {
   "cell_type": "markdown",
   "id": "4e5fad27-4e15-4557-8166-9d56206f1993",
   "metadata": {},
   "source": [
    "<div style=\"text-align: justify\">\n",
    "The data in this table support the possibility of an outlier originating from position number 5, given its higher mean of fouls drawn per 40 minutes of play. However, as stated before, the high mean of fouls drawn per 40 minutes from position 5 players could be due to increased rotation and hence decreased time on the court. Apart from the weak linear correlation between the time played as well as the number of games and the fouls drawn per 40 minutes, it will be shown in next sections how decreased time on the court or small number of games played affects the fouls drawn per 40 games, where in some cases might be very high.\n",
    "</div>"
   ]
  },
  {
   "cell_type": "markdown",
   "id": "15290924-661e-48e5-a6c5-ccb523a2384b",
   "metadata": {},
   "source": [
    "## Euroleague 2022-2023 Season"
   ]
  },
  {
   "cell_type": "markdown",
   "id": "daf3c8eb-2d9f-404e-aa23-1f8b9dc350d5",
   "metadata": {},
   "source": [
    "## Data Cleaning and Feature Engineering"
   ]
  },
  {
   "cell_type": "code",
   "execution_count": null,
   "id": "bc49f603-5371-456b-b8f8-ac71cbc63b58",
   "metadata": {},
   "outputs": [],
   "source": [
    "# Split the \"minutes_per_game\" column to two columns:\n",
    "df_2223[[\"minutes\", \"seconds\"]] = df_2223[\"Minutes per Game\"].str.split(\"k\", expand=True)\n",
    "\n",
    "# Change the dtypes of the newly created columns:\n",
    "df_2223[\"minutes\"] = df_2223[\"minutes\"].astype(int)\n",
    "df_2223[\"seconds\"] = df_2223[\"seconds\"].astype(int)\n",
    "\n",
    "# Create the final column showing the average player time per game in seconds:\n",
    "df_2223[\"Seconds per Game\"] = (df_2223[\"minutes\"]*60 + df_2223[\"seconds\"]).astype(\"int64\")\n",
    "\n",
    "# Drop the unecessary columns:\n",
    "df_2223 = df_2223.drop(columns=[\"Minutes per Game\", \"minutes\", \"seconds\"])\n",
    "\n",
    "# Normalize fouls per game by creating the \"fouls per game\" column:\n",
    "df_2223[\"Fouled per Game\"] = df_2223[\"Fouled (Total)\"] / df_2223[\"Games\"]\n",
    "\n",
    "# Normalize fouls per 40 minutes (2400 seconds) by creating the \"fouls per 40 mins\" column:\n",
    "df_2223[\"Fouled per 40 Minutes\"] = round(2400 * df_2223[\"Fouled per Game\"] / df_2223[\"Seconds per Game\"], 2)"
   ]
  },
  {
   "cell_type": "markdown",
   "id": "049e3097-6ffc-41d0-9e17-54cb9a6a324d",
   "metadata": {},
   "source": [
    "## Exploratory Data Analysis and Descriptive Statistics"
   ]
  },
  {
   "cell_type": "code",
   "execution_count": null,
   "id": "dad0d163-0b9a-49a4-8213-239c219911fe",
   "metadata": {},
   "outputs": [],
   "source": [
    "# Present some basic statistics of the df:\n",
    "df_2223.describe().transpose()"
   ]
  },
  {
   "cell_type": "code",
   "execution_count": null,
   "id": "5f497ef5-d66e-489b-950c-7eca18cb8625",
   "metadata": {},
   "outputs": [],
   "source": [
    "# Select the numerical columns:\n",
    "num_cols_2223 = df_2223.select_dtypes(include=[\"int64\", \"float64\"])\n",
    "\n",
    "# Display a correlation matrix for the numerical columns:\n",
    "num_cols_2223.corr()"
   ]
  },
  {
   "cell_type": "markdown",
   "id": "6ada45b9-9dd4-48a9-8760-ee73e4ca496d",
   "metadata": {},
   "source": [
    "<div style=\"text-align: justify\">\n",
    "The same patters are observed in this correlation matrix as well. Fouls drawn per 40 minuted tend to decrease the more minutes a player spends on the court and the more games he plays. There is a descent amount of rotation in tall players as well. However, the correlation matrix shows that tall players tend to participate in more games than the shorter players. This may be due to injuries affected most fouled and shorter players as there is not normal to observe an influence of the number of games to the position of the players.\n",
    "</div>"
   ]
  },
  {
   "cell_type": "markdown",
   "id": "e3db9ae1-29bc-4ab6-a3b6-8329821b65f6",
   "metadata": {},
   "source": [
    "#### Critical Boxplot: Time-Normalized Foules (Foules Drawn per 40 Minutes) 2022-2023 Season"
   ]
  },
  {
   "cell_type": "code",
   "execution_count": null,
   "id": "61ba13ec-2f53-4b37-b9d9-e3f651d812ae",
   "metadata": {},
   "outputs": [],
   "source": [
    "# Create the boxplot's grid:\n",
    "sns.set(style=\"whitegrid\")\n",
    "\n",
    "# Create the figure and set its size and dpi:\n",
    "plt.figure(figsize=(8, 6), dpi=130)\n",
    "\n",
    "# Create the boxplot showing the mean of the distribution:\n",
    "sns.boxplot(x=df_2223[\"Fouled per 40 Minutes\"], showmeans=True, meanline=True)\n",
    "\n",
    "# Set the x-axis ticks, boxplot's title and labels:\n",
    "plt.xticks(range(3, 10, 1))\n",
    "plt.title(\n",
    "    \"Boxplot 4: Distribution of players' fouls received per 40 minutes. The whiskers of this\\n\"\n",
    "    \"boxplot range from 3.83 to 8.37 fouls per 40 minutes.\")\n",
    "\n",
    "plt.xlabel(\"Fouls Received per 40 Minutes\");\n",
    "\n",
    "plt.savefig('boxplot4.png', dpi=300, bbox_inches='tight')"
   ]
  },
  {
   "cell_type": "markdown",
   "id": "4fdf04b5-4191-4c11-982a-e327e19e4901",
   "metadata": {},
   "source": [
    "For 2022-2023 season, the range is $4.54$ fouls per 40 minutes and there is no identified outlier."
   ]
  },
  {
   "cell_type": "markdown",
   "id": "4bda0a66-f1d1-48b1-b608-040b46df9e4c",
   "metadata": {},
   "source": [
    "## Euroleague 2021-2022 Season"
   ]
  },
  {
   "cell_type": "markdown",
   "id": "87e58d65-20de-44a1-ad25-24670ab2c43e",
   "metadata": {},
   "source": [
    "## Data Cleaning and Feature Engineering"
   ]
  },
  {
   "cell_type": "code",
   "execution_count": null,
   "id": "2f656221-d2d6-4dfe-97d3-2c5aef7d4489",
   "metadata": {},
   "outputs": [],
   "source": [
    "# Split the \"minutes_per_game\" column to two columns:\n",
    "df_2122[[\"minutes\", \"seconds\"]] = df_2122[\"Minutes per Game\"].str.split(\"k\", expand=True)\n",
    "\n",
    "# Change the dtypes of the newly created columns:\n",
    "df_2122[\"minutes\"] = df_2122[\"minutes\"].astype(int)\n",
    "df_2122[\"seconds\"] = df_2122[\"seconds\"].astype(int)\n",
    "\n",
    "# Create the final column showing the average player time per game in seconds:\n",
    "df_2122[\"Seconds per Game\"] = (df_2122[\"minutes\"]*60 + df_2122[\"seconds\"]).astype(\"int64\")\n",
    "\n",
    "# Drop the unecessary columns:\n",
    "df_2122 = df_2122.drop(columns=[\"Minutes per Game\", \"minutes\", \"seconds\"])\n",
    "\n",
    "# Normalize fouls per game by creating the \"fouls per game\" column:\n",
    "df_2122[\"Fouled per Game\"] = df_2122[\"Fouled (Total)\"] / df_2122[\"Games\"]\n",
    "\n",
    "# Normalize fouls per 40 minutes (2400 seconds) by creating the \"fouls per 40 mins\" column:\n",
    "df_2122[\"Fouled per 40 Minutes\"] = round(2400 * df_2122[\"Fouled per Game\"] / df_2122[\"Seconds per Game\"], 2)"
   ]
  },
  {
   "cell_type": "markdown",
   "id": "fd2404b8-7b64-4e18-b8c7-456303b51041",
   "metadata": {},
   "source": [
    "## Exploratory Data Analysis and Descriptive Statistics"
   ]
  },
  {
   "cell_type": "code",
   "execution_count": null,
   "id": "1c70978e-3c07-40c3-a61b-b3439f6dd155",
   "metadata": {},
   "outputs": [],
   "source": [
    "# Present some basic statistics of the df:\n",
    "df_2122.describe().transpose()"
   ]
  },
  {
   "cell_type": "code",
   "execution_count": null,
   "id": "b8bb89c3-6f5a-4d51-94f1-3e9a29205f79",
   "metadata": {},
   "outputs": [],
   "source": [
    "# Select the numerical columns:\n",
    "num_cols_2122 = df_2122.select_dtypes(include=[\"int64\", \"float64\"])\n",
    "\n",
    "# Display a correlation matrix for the numerical columns:\n",
    "num_cols_2122.corr()"
   ]
  },
  {
   "cell_type": "markdown",
   "id": "194ba698-81be-43f9-96e2-c98be5d48136",
   "metadata": {},
   "source": [
    "Same observations as before can be made here."
   ]
  },
  {
   "cell_type": "markdown",
   "id": "b03ae5fc-9524-4c97-a767-ba4e5f6eb6c2",
   "metadata": {},
   "source": [
    "#### Critical Boxplot: Time-Normalized Foules (Foules Drawn per 40 Minutes) 2021-2022 Season"
   ]
  },
  {
   "cell_type": "code",
   "execution_count": null,
   "id": "0c1e1754-9faa-42f8-9c04-b785c2dc0359",
   "metadata": {},
   "outputs": [],
   "source": [
    "# Create the boxplot's grid:\n",
    "sns.set(style=\"whitegrid\")\n",
    "\n",
    "# Create the figure and set its size and dpi:\n",
    "plt.figure(figsize=(8, 6), dpi=130)\n",
    "\n",
    "# Create the boxplot showing the mean of the distribution:\n",
    "sns.boxplot(x=df_2122[\"Fouled per 40 Minutes\"], showmeans=True, meanline=True)\n",
    "\n",
    "# Set the x-axis ticks, boxplot's title and labels:\n",
    "plt.xticks(range(3, 10, 1))\n",
    "plt.title(\n",
    "    \"Boxplot 5: Distribution of players' fouls received per 40 minutes. The whiskers of this\\n\"\n",
    "    \"boxplot range from 3.14 to 6.76 fouls per 40 minutes.\")\n",
    "\n",
    "plt.xlabel(\"Fouls Received per 40 Minutes\");\n",
    "\n",
    "plt.savefig('boxplot5.png', dpi=300, bbox_inches='tight')"
   ]
  },
  {
   "cell_type": "markdown",
   "id": "58c18ee1-e28f-4d86-b57e-d6819791798f",
   "metadata": {},
   "source": [
    "<div style=\"text-align: justify\">\n",
    "Nikola Ivanovic has been identified as an outlier in the analysis. Ranked 30th among the most fouled players and having played only 15:21 minutes per game, Ivanovic’s value needs some study. Specifically, he very often drew approximately 10 or more fouls per 40 minutes, while staying between 9 to 17 minutes on the court. Ivanovic’s high foul rate appears to be influenced by his mediocre time on the court. As a result, his fouls-per-40-minutes value would not probably be the same, if he spent more minutes on the court. Therefore, it is likely that Ivanovic's high foul rate is a result of his adaptability to the game (approximately after 8-9 minutes on the court) and his mediocre time playing basketball (< 17 minutes). He may be highly skilled at drawing fouls when playing less than 20 minutes. However, being such an extreme outlier, even on time-normalized fouls, questioning referees decision, even if Ivanovic may be highly skilled in drawing fouls.\n",
    "</div>"
   ]
  },
  {
   "cell_type": "markdown",
   "id": "b6566738-2cc5-4b31-801f-8a9fdb2c148f",
   "metadata": {},
   "source": [
    " For 2021-2022 season, the range is $3.62$ fouls per 40 minutes and there is an identified outlier."
   ]
  },
  {
   "cell_type": "markdown",
   "id": "cbaea2c5-7ce2-4bdb-9114-4dcff2a5168d",
   "metadata": {},
   "source": [
    "## Euroleague 2020-2021 Season"
   ]
  },
  {
   "cell_type": "markdown",
   "id": "0525d69a-8dea-4916-8830-b5136a3c6306",
   "metadata": {},
   "source": [
    "## Data Cleaning and Feature Engineering"
   ]
  },
  {
   "cell_type": "code",
   "execution_count": null,
   "id": "d04a67b5-ed37-4152-8c87-aa42b682589a",
   "metadata": {},
   "outputs": [],
   "source": [
    "# Split the \"minutes_per_game\" column to two columns:\n",
    "df_2021[[\"minutes\", \"seconds\"]] = df_2021[\"Minutes per Game\"].str.split(\"k\", expand=True)\n",
    "\n",
    "# Change the dtypes of the newly created columns:\n",
    "df_2021[\"minutes\"] = df_2021[\"minutes\"].astype(int)\n",
    "df_2021[\"seconds\"] = df_2021[\"seconds\"].astype(int)\n",
    "\n",
    "# Create the final column showing the average player time per game in seconds:\n",
    "df_2021[\"Seconds per Game\"] = (df_2021[\"minutes\"]*60 + df_2021[\"seconds\"]).astype(\"int64\")\n",
    "\n",
    "# Drop the unecessary columns:\n",
    "df_2021 = df_2021.drop(columns=[\"Minutes per Game\", \"minutes\", \"seconds\"])\n",
    "\n",
    "# Normalize fouls per game by creating the \"fouls per game\" column:\n",
    "df_2021[\"Fouled per Game\"] = df_2021[\"Fouled (Total)\"] / df_2021[\"Games\"]\n",
    "\n",
    "# Normalize fouls per 40 minutes (2400 seconds) by creating the \"fouls per 40 mins\" column:\n",
    "df_2021[\"Fouled per 40 Minutes\"] = round(2400 * df_2021[\"Fouled per Game\"] / df_2021[\"Seconds per Game\"], 2)"
   ]
  },
  {
   "cell_type": "markdown",
   "id": "c947fa89-99e6-44df-92d0-7d0863a7615d",
   "metadata": {},
   "source": [
    "## Exploratory Data Analysis and Descriptive Statistics"
   ]
  },
  {
   "cell_type": "code",
   "execution_count": null,
   "id": "9c63381b-8018-4ce9-b180-0b23d50cd516",
   "metadata": {},
   "outputs": [],
   "source": [
    "# Present some basic statistics of the df:\n",
    "df_2021.describe().transpose()"
   ]
  },
  {
   "cell_type": "code",
   "execution_count": null,
   "id": "73466681-ad7d-4c6b-8930-15882d60743e",
   "metadata": {},
   "outputs": [],
   "source": [
    "# Select the numerical columns:\n",
    "num_cols_2021 = df_2021.select_dtypes(include=[\"int64\", \"float64\"])\n",
    "\n",
    "# Display a correlation matrix for the numerical columns:\n",
    "num_cols_2021.corr()"
   ]
  },
  {
   "cell_type": "markdown",
   "id": "df39561e-2654-41e6-ad3e-64f14ffae726",
   "metadata": {},
   "source": [
    "Same observations as before can be made here."
   ]
  },
  {
   "cell_type": "markdown",
   "id": "29020703-76d6-4d53-a17e-85c9a87e0203",
   "metadata": {},
   "source": [
    "#### Critical Boxplot: Time-Normalized Foules (Foules Drawn per 40 Minutes) 2020-2021 Season"
   ]
  },
  {
   "cell_type": "code",
   "execution_count": null,
   "id": "55480be6-0da3-460b-8a54-b04581824a6e",
   "metadata": {},
   "outputs": [],
   "source": [
    "# Create the boxplot's grid:\n",
    "sns.set(style=\"whitegrid\")\n",
    "\n",
    "# Create the figure and set its size and dpi:\n",
    "plt.figure(figsize=(8, 6), dpi=130)\n",
    "\n",
    "# Create the boxplot showing the mean of the distribution:\n",
    "sns.boxplot(x=df_2021[\"Fouled per 40 Minutes\"], showmeans=True, meanline=True)\n",
    "\n",
    "# Set the x-axis ticks, boxplot's title and labels:\n",
    "plt.xticks(range(3, 10, 1))\n",
    "plt.title(\n",
    "    \"Boxplot 6: Distribution of players' fouls received per 40 minutes. The whiskers of this\\n\"\n",
    "    \"boxplot range from 3.39 to 8.77 fouls per 40 minutes.\")\n",
    "\n",
    "plt.xlabel(\"Fouls Received per 40 Minutes\");\n",
    "\n",
    "plt.savefig('boxplot6.png', dpi=300, bbox_inches='tight')"
   ]
  },
  {
   "cell_type": "markdown",
   "id": "86f83e35-008d-40f3-a185-6a07d532c89b",
   "metadata": {},
   "source": [
    "For 2020-2021 season, the range is $5.38$ fouls per 40 minutes and there is no identified outlier."
   ]
  },
  {
   "cell_type": "markdown",
   "id": "9e97eb52-2cd2-4808-9949-098a00ee9038",
   "metadata": {},
   "source": [
    "## Euroleague 2019-2020 Season"
   ]
  },
  {
   "cell_type": "markdown",
   "id": "15614555-6f5b-427e-9f0a-162b24d0991e",
   "metadata": {},
   "source": [
    "## Data Cleaning and Feature Engineering"
   ]
  },
  {
   "cell_type": "code",
   "execution_count": null,
   "id": "774ec6e7-ce1e-4e2e-b7d7-03f36114520e",
   "metadata": {},
   "outputs": [],
   "source": [
    "# Split the \"minutes_per_game\" column to two columns:\n",
    "df_1920[[\"minutes\", \"seconds\"]] = df_1920[\"Minutes per Game\"].str.split(\"k\", expand=True)\n",
    "\n",
    "# Change the dtypes of the newly created columns:\n",
    "df_1920[\"minutes\"] = df_1920[\"minutes\"].astype(int)\n",
    "df_1920[\"seconds\"] = df_1920[\"seconds\"].astype(int)\n",
    "\n",
    "# Create the final column showing the average player time per game in seconds:\n",
    "df_1920[\"Seconds per Game\"] = (df_1920[\"minutes\"]*60 + df_1920[\"seconds\"]).astype(\"int64\")\n",
    "\n",
    "# Drop the unecessary columns:\n",
    "df_1920 = df_1920.drop(columns=[\"Minutes per Game\", \"minutes\", \"seconds\"])\n",
    "\n",
    "# Normalize fouls per game by creating the \"fouls per game\" column:\n",
    "df_1920[\"Fouled per Game\"] = df_1920[\"Fouled (Total)\"] / df_1920[\"Games\"]\n",
    "\n",
    "# Normalize fouls per 40 minutes (2400 seconds) by creating the \"fouls per 40 mins\" column:\n",
    "df_1920[\"Fouled per 40 Minutes\"] = round(2400 * df_1920[\"Fouled per Game\"] / df_1920[\"Seconds per Game\"], 2)"
   ]
  },
  {
   "cell_type": "markdown",
   "id": "af063a40-fa76-449a-accb-64e2390d14d5",
   "metadata": {},
   "source": [
    "## Exploratory Data Analysis and Descriptive Statistics"
   ]
  },
  {
   "cell_type": "code",
   "execution_count": null,
   "id": "e08b7030-a27f-45cf-bcfb-344b273c94d6",
   "metadata": {},
   "outputs": [],
   "source": [
    "# Present some basic statistics of the df:\n",
    "df_1920.describe().transpose()"
   ]
  },
  {
   "cell_type": "code",
   "execution_count": null,
   "id": "f53b0927-2e8f-462a-bfa5-f4847cc0ee77",
   "metadata": {},
   "outputs": [],
   "source": [
    "# Select the numerical columns:\n",
    "num_cols_1920 = df_1920.select_dtypes(include=[\"int64\", \"float64\"])\n",
    "\n",
    "# Display a correlation matrix for the numerical columns:\n",
    "num_cols_1920.corr()"
   ]
  },
  {
   "cell_type": "markdown",
   "id": "5a828650-2dbc-469c-8a70-62c886485e5a",
   "metadata": {},
   "source": [
    "Same observations as before can be made here."
   ]
  },
  {
   "cell_type": "markdown",
   "id": "107ff4f9-a1e9-4a79-b53b-24f62319b9a0",
   "metadata": {},
   "source": [
    "#### Critical Boxplot: Time-Normalized Foules (Foules Drawn per 40 Minutes) 2019-2020 Season"
   ]
  },
  {
   "cell_type": "code",
   "execution_count": null,
   "id": "8c2e6f26-0644-448b-86fd-c13f3072a556",
   "metadata": {},
   "outputs": [],
   "source": [
    "# Create the boxplot's grid:\n",
    "sns.set(style=\"whitegrid\")\n",
    "\n",
    "# Create the figure and set its size and dpi:\n",
    "plt.figure(figsize=(8, 6), dpi=130)\n",
    "\n",
    "# Create the boxplot showing the mean of the distribution:\n",
    "sns.boxplot(x=df_1920[\"Fouled per 40 Minutes\"], showmeans=True, meanline=True)\n",
    "\n",
    "# Set the x-axis ticks, boxplot's title and labels:\n",
    "plt.xticks(range(3, 10, 1))\n",
    "plt.title(\n",
    "    \"Boxplot 7: Distribution of players' fouls received per 40 minutes. The whiskers of this\\n\"\n",
    "    \"boxplot range from 3.44 to 9.1 fouls per 40 minutes.\")\n",
    "\n",
    "plt.xlabel(\"Fouls Received per 40 Minutes\");\n",
    "\n",
    "plt.savefig('boxplot7.png', dpi=300, bbox_inches='tight')"
   ]
  },
  {
   "cell_type": "markdown",
   "id": "fa96d440-ba3c-4e17-ae6c-dff13b6c5e20",
   "metadata": {},
   "source": [
    "<div style=\"text-align: justify\">\n",
    "Arturas Gudaitis has a \"fouls per 40 minutes\" rate of 9.1. Although he isn't classified as an outlier, this value is the highest observed so far and it needs some further investigation. This case is probably similar to Ivanovic's situation because Gudaitis ranked 30th among the 50 most fouled players of the season, playing only in 19 games with an average of only 16:53 minutes per game. Checking Gudaitis stats reveals he drew 33 out of his total 73 fouls in just 5 games, where he played approximately 17.5 minutes per game. These 5 games significantly affects his overall \"fouls per 40 minutes\" rates, leading it to such high levels. Gudaitis high rate of fouls-per-40-minutes would probably be smaller if he played more games or spent more minutes on the court.\n",
    "</div>"
   ]
  },
  {
   "cell_type": "markdown",
   "id": "faee8d9e-22ea-4503-aff6-bb11107874ec",
   "metadata": {},
   "source": [
    "<div style=\"text-align: justify\">\n",
    "For 2019-2020 season, the range is $5.66$ fouls per 40 minutes and there is no identified outliers. However, Gudaitis' extremities might be a referees headache.\n",
    "</div>"
   ]
  },
  {
   "cell_type": "markdown",
   "id": "d25ea086-0756-4894-8203-36a13639e570",
   "metadata": {},
   "source": [
    "# Part II: Isolate the Players Averaged more than 25 Minutes on the Court "
   ]
  },
  {
   "cell_type": "markdown",
   "id": "6c42b25c-7ea2-4fe2-ba92-a7a2644edc69",
   "metadata": {},
   "source": [
    "<div style=\"text-align: justify\">\n",
    "Considering the effects observed with Ivanovic and Gudaitis, we will exclude the players who did not spend sufficient time on the court. Consequently, the datasets presented below include only players who averaged more than 25 minutes per game among the 50 most fouled players of each season.\n",
    "</div>"
   ]
  },
  {
   "cell_type": "markdown",
   "id": "09f8c4d8-3b6b-4549-b198-61d06b00e4e6",
   "metadata": {},
   "source": [
    "## Euroleague 2023-2024 Season: Players Over 25 Minutes on the Court"
   ]
  },
  {
   "cell_type": "code",
   "execution_count": null,
   "id": "cf111303-b122-4cfd-93cf-67e222142c51",
   "metadata": {},
   "outputs": [],
   "source": [
    "# Create a new df with players averaged over 25 minutes:\n",
    "df_2324_over25 = df_2324[df_2324[\"Seconds per Game\"] > 1500]"
   ]
  },
  {
   "cell_type": "code",
   "execution_count": null,
   "id": "43679bbf-daca-43e1-9356-eace97f08799",
   "metadata": {},
   "outputs": [],
   "source": [
    "# Create the figure and set its size and dpi:\n",
    "plt.figure(figsize=(10, 6), dpi=140)\n",
    "\n",
    "# Create the scatter plot:\n",
    "sns.scatterplot(x=df_2324_over25[\"Seconds per Game\"], \n",
    "                y=df_2324_over25[\"Fouled per 40 Minutes\"], \n",
    "                hue=df_2324_over25[\"Position\"],\n",
    "                style=df_2324_over25[\"Position\"],\n",
    "                s=50,\n",
    "               palette=\"Set1\")\n",
    "\n",
    "# Set title and legend:\n",
    "plt.title(\"Scatter Plot 1: Seconds per Game vs Fouls per 40 Minutes for Players Averaged Over 25 Minutes (2023-2024)\")\n",
    "plt.legend(title='Position', bbox_to_anchor=(1.02, 1.02), loc='upper left');\n",
    "\n",
    "plt.savefig('scatterplot.png', dpi=300, bbox_inches='tight')"
   ]
  },
  {
   "cell_type": "code",
   "execution_count": null,
   "id": "ccb2a6de-37f5-498f-87bc-2df8513f8bac",
   "metadata": {},
   "outputs": [],
   "source": [
    "# Create the boxplot's grid:\n",
    "sns.set(style=\"whitegrid\")\n",
    "\n",
    "# Create the figure and set its size and dpi:\n",
    "plt.figure(figsize=(8, 6), dpi=140)\n",
    "\n",
    "# Create the boxplot showing the mean of the distribution:\n",
    "sns.boxplot(x=df_2324_over25[\"Fouled per 40 Minutes\"], showmeans=True, meanline=True)\n",
    "\n",
    "# Set the x-axis ticks, boxplot's title and labels:\n",
    "plt.xticks(range(3, 10, 1))\n",
    "plt.title(\n",
    "    \"Boxplot 8: Distribution of players' fouls received per 40 minutes. The whiskers of this\\n\"\n",
    "    \"boxplot range from 3.23 to 7.99 fouls per 40 minutes. (Players over 25 minutes)\")\n",
    "\n",
    "plt.xlabel(\"Fouls Received per 40 Minutes\");\n",
    "\n",
    "plt.savefig('boxplot8.png', dpi=300, bbox_inches='tight')"
   ]
  },
  {
   "cell_type": "markdown",
   "id": "558501ba-be1e-470c-99ea-4d71d414e499",
   "metadata": {},
   "source": [
    "The range is $4.76$ fouls per 40 minutes and there is still an identified outlier."
   ]
  },
  {
   "cell_type": "markdown",
   "id": "5f19b6da-85d9-4473-8e78-5ae6facd7418",
   "metadata": {},
   "source": [
    "## Euroleague 2022-2023 Season: Players Over 25 Minutes on the Court"
   ]
  },
  {
   "cell_type": "code",
   "execution_count": null,
   "id": "6b2d9096-272c-4156-a603-f66705e522a1",
   "metadata": {},
   "outputs": [],
   "source": [
    "# Create a new df with players averaged over 25 minutes:\n",
    "df_2223_over25 = df_2223[df_2223[\"Seconds per Game\"] > 1500]"
   ]
  },
  {
   "cell_type": "code",
   "execution_count": null,
   "id": "45abf5ec-2cf3-49b5-9fbf-e411c083645d",
   "metadata": {},
   "outputs": [],
   "source": [
    "# Create the figure and set its size and dpi:\n",
    "plt.figure(figsize=(10, 6), dpi=140)\n",
    "\n",
    "# Create the scatter plot:\n",
    "sns.scatterplot(x=df_2223_over25[\"Seconds per Game\"], \n",
    "                y=df_2223_over25[\"Fouled per 40 Minutes\"], \n",
    "                hue=df_2223_over25[\"Position\"],\n",
    "                style=df_2223_over25[\"Position\"],\n",
    "                s=50,\n",
    "               palette=\"Set1\")\n",
    "\n",
    "# Set title and legend:\n",
    "plt.title(\"Scatter Plot 2: Seconds per Game vs Fouls per 40 Minutes for Players Averaged Over 25 Minutes (2022-2023)\")\n",
    "plt.legend(title='Position', bbox_to_anchor=(1.02, 1.02), loc='upper left');\n",
    "\n",
    "plt.savefig('scatterplot2.png', dpi=300, bbox_inches='tight')"
   ]
  },
  {
   "cell_type": "code",
   "execution_count": null,
   "id": "f802525f-ed7f-4ea9-8eb4-c5c1f5c1926f",
   "metadata": {},
   "outputs": [],
   "source": [
    "# Create the boxplot's grid:\n",
    "sns.set(style=\"whitegrid\")\n",
    "\n",
    "# Create the figure and set its size and dpi:\n",
    "plt.figure(figsize=(8, 6), dpi=140)\n",
    "\n",
    "# Create the boxplot showing the mean of the distribution:\n",
    "sns.boxplot(x=df_2223_over25[\"Fouled per 40 Minutes\"], showmeans=True, meanline=True)\n",
    "\n",
    "# Set the x-axis ticks, boxplot's title and labels:\n",
    "plt.xticks(range(3, 8, 1))\n",
    "plt.title(\n",
    "    \"Boxplot 9: Distribution of players' fouls received per 40 minutes. The whiskers of this\\n\"\n",
    "    \"boxplot range from 3.83 to 6.69 fouls per 40 minutes. (Players over 25 minutes)\")\n",
    "\n",
    "plt.xlabel(\"Fouls Received per 40 Minutes\");\n",
    "\n",
    "plt.savefig('boxplot9.png', dpi=300, bbox_inches='tight')"
   ]
  },
  {
   "cell_type": "markdown",
   "id": "3f105a7d-85e0-4bce-8351-480dd313dc81",
   "metadata": {},
   "source": [
    "The range is $2.86$ fouls per 40 minutes and there is no identified outlier."
   ]
  },
  {
   "cell_type": "markdown",
   "id": "b6f34cd1-86e1-4c40-93f3-d60f7ddb7c2f",
   "metadata": {},
   "source": [
    "## Euroleague 2021-2022 Season: Players Over 25 Minutes on the Court"
   ]
  },
  {
   "cell_type": "code",
   "execution_count": null,
   "id": "cf1d3c50-7003-4b8b-8d49-824a116659df",
   "metadata": {},
   "outputs": [],
   "source": [
    "# Create a new df with players averaged over 25 minutes:\n",
    "df_2122_over25 = df_2122[df_2122[\"Seconds per Game\"] > 1500]"
   ]
  },
  {
   "cell_type": "code",
   "execution_count": null,
   "id": "7e2b5df5-c972-42d3-bd9d-8a53bb210937",
   "metadata": {},
   "outputs": [],
   "source": [
    "# Create the figure and set its size and dpi:\n",
    "plt.figure(figsize=(10, 6), dpi=140)\n",
    "\n",
    "# Create the scatter plot:\n",
    "sns.scatterplot(x=df_2122_over25[\"Seconds per Game\"], \n",
    "                y=df_2122_over25[\"Fouled per 40 Minutes\"], \n",
    "                hue=df_2122_over25[\"Position\"],\n",
    "                style=df_2122_over25[\"Position\"],\n",
    "                s=50,\n",
    "               palette=\"Set1\")\n",
    "\n",
    "# Set title and legend:\n",
    "plt.title(\"Scatter Plot 3: Seconds per Game vs Fouls per 40 Minutes for Players Averaged Over 25 Minutes (2021-2022)\")\n",
    "plt.legend(title='Position', bbox_to_anchor=(1.02, 1.02), loc='upper left');\n",
    "\n",
    "plt.savefig('scatterplot3.png', dpi=300, bbox_inches='tight')"
   ]
  },
  {
   "cell_type": "code",
   "execution_count": null,
   "id": "a6ac486f-5f65-49a1-b909-d42e3a610d6a",
   "metadata": {},
   "outputs": [],
   "source": [
    "# Create the boxplot's grid:\n",
    "sns.set(style=\"whitegrid\")\n",
    "\n",
    "# Create the figure and set its size and dpi:\n",
    "plt.figure(figsize=(8, 6), dpi=140)\n",
    "\n",
    "# Create the boxplot showing the mean of the distribution:\n",
    "sns.boxplot(x=df_2122_over25[\"Fouled per 40 Minutes\"], showmeans=True, meanline=True)\n",
    "\n",
    "# Set the x-axis ticks, boxplot's title and labels:\n",
    "plt.xticks(range(3, 8, 1))\n",
    "plt.title(\n",
    "    \"Boxplot 10: Distribution of players' fouls received per 40 minutes. The whiskers of this\\n\"\n",
    "    \"boxplot range from 3.14 to 6.48 fouls per 40 minutes. (Players over 25 minutes)\")\n",
    "\n",
    "plt.xlabel(\"Fouls Received per 40 Minutes\");\n",
    "\n",
    "plt.savefig('boxplot10.png', dpi=300, bbox_inches='tight')"
   ]
  },
  {
   "cell_type": "markdown",
   "id": "ea0112a0-359b-4782-8c42-6c45dc5f31bf",
   "metadata": {},
   "source": [
    "The range is $3.34$ fouls per 40 minutes and there is no identified outlier."
   ]
  },
  {
   "cell_type": "markdown",
   "id": "d9c8a85a-d8e9-471e-af34-f03ec842f5f2",
   "metadata": {},
   "source": [
    "## Euroleague 2020-2021 Season: Players Over 25 Minutes on the Court"
   ]
  },
  {
   "cell_type": "code",
   "execution_count": null,
   "id": "754556cb-94b4-49aa-8cc6-b9954277e81c",
   "metadata": {},
   "outputs": [],
   "source": [
    "# Create a new df with players averaged over 25 minutes:\n",
    "df_2021_over25 = df_2021[df_2021[\"Seconds per Game\"] > 1500]"
   ]
  },
  {
   "cell_type": "code",
   "execution_count": null,
   "id": "23806084-f0c1-436d-b33e-fd62169b562c",
   "metadata": {},
   "outputs": [],
   "source": [
    "# Create the figure and set its size and dpi:\n",
    "plt.figure(figsize=(10, 6), dpi=140)\n",
    "\n",
    "# Create the scatter plot:\n",
    "sns.scatterplot(x=df_2021_over25[\"Seconds per Game\"], \n",
    "                y=df_2021_over25[\"Fouled per 40 Minutes\"], \n",
    "                hue=df_2021_over25[\"Position\"],\n",
    "                style=df_2021_over25[\"Position\"],\n",
    "                s=50,\n",
    "               palette=\"Set1\")\n",
    "\n",
    "# Set title and legend:\n",
    "plt.title(\"Scatter Plot 4: Seconds per Game vs Fouls per 40 Minutes for Players Averaged Over 25 Minutes (2020-2021)\")\n",
    "plt.legend(title='Position', bbox_to_anchor=(1.02, 1.02), loc='upper left');\n",
    "\n",
    "plt.savefig('scatterplot4.png', dpi=300, bbox_inches='tight')"
   ]
  },
  {
   "cell_type": "code",
   "execution_count": null,
   "id": "6d121252-4ac0-4bd0-90f8-2efb73218742",
   "metadata": {},
   "outputs": [],
   "source": [
    "# Create the boxplot's grid:\n",
    "sns.set(style=\"whitegrid\")\n",
    "\n",
    "# Create the figure and set its size and dpi:\n",
    "plt.figure(figsize=(8, 6), dpi=140)\n",
    "\n",
    "# Create the boxplot showing the mean of the distribution:\n",
    "sns.boxplot(x=df_2021_over25[\"Fouled per 40 Minutes\"], showmeans=True, meanline=True)\n",
    "\n",
    "# Set the x-axis ticks, boxplot's title and labels:\n",
    "plt.xticks(range(3, 8, 1))\n",
    "plt.title(\n",
    "    \"Boxplot 11: Distribution of players' fouls received per 40 minutes. The whiskers of this\\n\"\n",
    "    \"boxplot range from 3.39 to 7.73 fouls per 40 minutes. (Players over 25 minutes)\")\n",
    "\n",
    "plt.xlabel(\"Fouls Received per 40 Minutes\");\n",
    "\n",
    "plt.savefig('boxplot11.png', dpi=300, bbox_inches='tight')"
   ]
  },
  {
   "cell_type": "markdown",
   "id": "18d74701-b525-4ff2-a6ba-9d5f7f11925b",
   "metadata": {},
   "source": [
    "The range is $4.34$ fouls per 40 minutes and there is no identified outlier."
   ]
  },
  {
   "cell_type": "markdown",
   "id": "bb98db7d-5d2b-45e8-a4c7-125bb9a72b04",
   "metadata": {},
   "source": [
    "## Euroleague 2019-2020 Season: Players Over 25 Minutes on the Court"
   ]
  },
  {
   "cell_type": "code",
   "execution_count": null,
   "id": "fea60f8c-8291-47cc-9b47-4111dcd9c68c",
   "metadata": {},
   "outputs": [],
   "source": [
    "# Create a new df with players averaged over 25 minutes:\n",
    "df_1920_over25 = df_1920[df_1920[\"Seconds per Game\"] > 1500]"
   ]
  },
  {
   "cell_type": "code",
   "execution_count": null,
   "id": "ead1cc3b-b6a5-48dc-b483-15e582ec8aad",
   "metadata": {},
   "outputs": [],
   "source": [
    "# Create the figure and set its size and dpi:\n",
    "plt.figure(figsize=(10, 6), dpi=140)\n",
    "\n",
    "# Create the scatter plot:\n",
    "sns.scatterplot(x=df_1920_over25[\"Seconds per Game\"], \n",
    "                y=df_1920_over25[\"Fouled per 40 Minutes\"], \n",
    "                hue=df_1920_over25[\"Position\"],\n",
    "                style=df_1920_over25[\"Position\"],\n",
    "                s=50,\n",
    "               palette=\"Set1\")\n",
    "\n",
    "# Set title and legend:\n",
    "plt.title(\"Scatter Plot 5: Seconds per Game vs Fouls per 40 Minutes for Players Averaged Over 25 Minutes (2019-2020)\")\n",
    "plt.legend(title='Position', bbox_to_anchor=(1.02, 1.02), loc='upper left');\n",
    "\n",
    "plt.savefig('scatterplot5.png', dpi=300, bbox_inches='tight')"
   ]
  },
  {
   "cell_type": "code",
   "execution_count": null,
   "id": "2b18f5e9-df77-427a-b451-9ea3d8c58cfc",
   "metadata": {},
   "outputs": [],
   "source": [
    "# Create the boxplot's grid:\n",
    "sns.set(style=\"whitegrid\")\n",
    "\n",
    "# Create the figure and set its size and dpi:\n",
    "plt.figure(figsize=(8, 6), dpi=140)\n",
    "\n",
    "# Create the boxplot showing the mean of the distribution:\n",
    "sns.boxplot(x=df_1920_over25[\"Fouled per 40 Minutes\"], showmeans=True, meanline=True)\n",
    "\n",
    "# Set the x-axis ticks, boxplot's title and labels:\n",
    "plt.xticks(range(3, 9, 1))\n",
    "plt.title(\n",
    "    \"Boxplot 12: Distribution of players' fouls received per 40 minutes. The whiskers of this\\n\"\n",
    "    \"boxplot range from 3.44 to 8.28 fouls per 40 minutes. (Players over 25 minutes)\")\n",
    "\n",
    "plt.xlabel(\"Fouls Received per 40 Minutes\");\n",
    "\n",
    "plt.savefig('boxplot12.png', dpi=300, bbox_inches='tight')"
   ]
  },
  {
   "cell_type": "markdown",
   "id": "efd1a488-45da-4cca-8ce4-d1a3c9e2bc70",
   "metadata": {},
   "source": [
    "The range is $4.84$ fouls per 40 minutes and there is no identified outlier."
   ]
  },
  {
   "cell_type": "markdown",
   "id": "25152a32-4366-4a8b-a344-f98643d5e787",
   "metadata": {},
   "source": [
    "# Euroleague All Seasons"
   ]
  },
  {
   "cell_type": "code",
   "execution_count": null,
   "id": "09d0b6d3-a1c0-4970-9fe3-43ffdf931964",
   "metadata": {},
   "outputs": [],
   "source": [
    "# Split the \"minutes_per_game\" column to two columns:\n",
    "combined_df[[\"minutes\", \"seconds\"]] = combined_df[\"Minutes per Game\"].str.split(\"k\", expand=True)\n",
    "\n",
    "# Change the dtypes of the newly created columns:\n",
    "combined_df[\"minutes\"] = combined_df[\"minutes\"].astype(int)\n",
    "combined_df[\"seconds\"] = combined_df[\"seconds\"].astype(int)\n",
    "\n",
    "# Create the final column showing the average player time per game in seconds:\n",
    "combined_df[\"Seconds per Game\"] = (combined_df[\"minutes\"]*60 + combined_df[\"seconds\"]).astype(\"int64\")\n",
    "\n",
    "# Drop the unecessary columns:\n",
    "combined_df = combined_df.drop(columns=[\"Minutes per Game\", \"minutes\", \"seconds\"])\n",
    "\n",
    "# Normalize fouls per game by creating the \"fouls per game\" column:\n",
    "combined_df[\"Fouled per Game\"] = combined_df[\"Fouled (Total)\"] / combined_df[\"Games\"]\n",
    "\n",
    "# Normalize fouls per 40 minutes (2400 seconds) by creating the \"fouls per 40 mins\" column:\n",
    "combined_df[\"Fouled per 40 Minutes\"] = round(2400 * combined_df[\"Fouled per Game\"] / combined_df[\"Seconds per Game\"], 2)"
   ]
  },
  {
   "cell_type": "code",
   "execution_count": null,
   "id": "b4718ad9-3ef2-454c-bcdb-21ff1c63bffc",
   "metadata": {},
   "outputs": [],
   "source": [
    "# Present some basic statistics of the df:\n",
    "combined_df.describe().transpose()"
   ]
  },
  {
   "cell_type": "code",
   "execution_count": null,
   "id": "f3f259de-3deb-46ef-ad93-b34116133a05",
   "metadata": {},
   "outputs": [],
   "source": [
    "# Select the numerical columns:\n",
    "num_cols_comb = combined_df.select_dtypes(include=[\"int64\", \"float64\"])\n",
    "\n",
    "# Display a correlation matrix for the numerical columns:\n",
    "num_cols_comb.corr()"
   ]
  },
  {
   "cell_type": "code",
   "execution_count": null,
   "id": "67f49970-a552-4142-a602-9ab6630cbf4d",
   "metadata": {},
   "outputs": [],
   "source": [
    "# Create the figure and set its size and dpi:\n",
    "plt.figure(figsize=(10, 6), dpi=140)\n",
    "\n",
    "# Create the scatter plot:\n",
    "sns.scatterplot(x=combined_df[\"Seconds per Game\"], \n",
    "                y=combined_df[\"Fouled per 40 Minutes\"], \n",
    "                hue=combined_df[\"Position\"],\n",
    "                style=combined_df[\"Position\"],\n",
    "                s=50,\n",
    "               palette=\"Set1\")\n",
    "\n",
    "# Set title and legend:\n",
    "plt.title(\"Scatter Plot 6: Seconds per Game vs Fouls per 40 Minutes for All Euroleague Seasons\")\n",
    "plt.legend(title='Position', bbox_to_anchor=(1.02, 1.02), loc='upper left');\n",
    "\n",
    "plt.savefig('scatterplot6.png', dpi=300, bbox_inches='tight')"
   ]
  },
  {
   "cell_type": "code",
   "execution_count": null,
   "id": "ff8a3c95-1fa1-42f0-9b54-b22f3c5ce180",
   "metadata": {},
   "outputs": [],
   "source": [
    "# Create the boxplot's grid:\n",
    "sns.set(style=\"whitegrid\")\n",
    "\n",
    "# Create the figure and set its size and dpi:\n",
    "plt.figure(figsize=(8, 6), dpi=140)\n",
    "\n",
    "# Create the boxplot showing the mean of the distribution:\n",
    "sns.boxplot(x=combined_df[\"Fouled per 40 Minutes\"], showmeans=True, meanline=True)\n",
    "\n",
    "# Set the x-axis ticks, boxplot's title and labels:\n",
    "plt.xticks(range(3, 10, 1))\n",
    "plt.title(\"Boxplot 13: Distribution of players' fouls received per 40 minutes for all seasons.\")\n",
    "\n",
    "plt.xlabel(\"Fouls Received per 40 Minutes\");\n",
    "\n",
    "plt.savefig('boxplot13.png', dpi=300, bbox_inches='tight')"
   ]
  },
  {
   "cell_type": "markdown",
   "id": "36df8ffc-8bd4-44d3-9251-e0beeacb0275",
   "metadata": {},
   "source": [
    "## Euroleague All Seasons: Players Over 25 Minutes on the Court"
   ]
  },
  {
   "cell_type": "code",
   "execution_count": null,
   "id": "5b52407f-480e-44ee-8a64-a9c7136bea4e",
   "metadata": {},
   "outputs": [],
   "source": [
    "# Create a new df with players averaged over 25 minutes:\n",
    "combined_df_over25 = combined_df[combined_df[\"Seconds per Game\"] > 1500]"
   ]
  },
  {
   "cell_type": "code",
   "execution_count": null,
   "id": "a27d9eee-968f-448b-9657-5183f52fd8a3",
   "metadata": {},
   "outputs": [],
   "source": [
    "# Create the figure and set its size and dpi:\n",
    "plt.figure(figsize=(10, 6), dpi=140)\n",
    "\n",
    "# Create the scatter plot:\n",
    "sns.scatterplot(x=combined_df_over25[\"Seconds per Game\"], \n",
    "                y=combined_df_over25[\"Fouled per 40 Minutes\"], \n",
    "                hue=combined_df_over25[\"Position\"],\n",
    "                style=combined_df_over25[\"Position\"],\n",
    "                s=50,\n",
    "               palette=\"Set1\")\n",
    "\n",
    "# Set title and legend:\n",
    "plt.title(\"Scatter Plot 7: Seconds per Game vs Fouled per 40 Minutes for all seasons\\n\"\n",
    "         \"(Players over 25 minutes on the court)\")\n",
    "plt.legend(title='Position', bbox_to_anchor=(1.02, 1.02), loc='upper left');\n",
    "\n",
    "plt.savefig('scatterplot7.png', dpi=300, bbox_inches='tight')"
   ]
  },
  {
   "cell_type": "code",
   "execution_count": null,
   "id": "371680b0-0520-4ed8-9a91-44ccaa479add",
   "metadata": {},
   "outputs": [],
   "source": [
    "# Create the boxplot's grid:\n",
    "sns.set(style=\"whitegrid\")\n",
    "\n",
    "# Create the figure and set its size and dpi:\n",
    "plt.figure(figsize=(8, 6), dpi=140)\n",
    "\n",
    "# Create the boxplot showing the mean of the distribution:\n",
    "sns.boxplot(x=combined_df_over25[\"Fouled per 40 Minutes\"], showmeans=True, meanline=True)\n",
    "\n",
    "# Set the x-axis ticks, boxplot's title and labels:\n",
    "plt.xticks(range(3, 10, 1))\n",
    "plt.title(\"Boxplot 14: Distribution of players' fouls received per 40 minutes for all seasons.\\n\"\n",
    "    \"(Players over 25 minutes on the court)\")\n",
    "\n",
    "plt.xlabel(\"Fouls Received per 40 Minutes\");\n",
    "\n",
    "plt.savefig('boxplot14.png', dpi=300, bbox_inches='tight')"
   ]
  },
  {
   "cell_type": "markdown",
   "id": "245d67fe-1d91-4f7a-9f6f-aeb392ec1a21",
   "metadata": {},
   "source": [
    "## Two Sample T-Hypothesis Test"
   ]
  },
  {
   "cell_type": "markdown",
   "id": "b2957b20-9e22-472a-a13b-9a6a6995acb9",
   "metadata": {},
   "source": [
    "Assumptions:  \n",
    "$1)$ The population's variance is unknown. The data of 2016-2017, 2017-2018 and 2018-2019 seasons are not yet prepared.  \n",
    "$2)$ The sample size, $n$ is equal to $4$ (4 seasons) and hence $n<30$.  \n",
    "$3)$ There is a single population. "
   ]
  },
  {
   "cell_type": "code",
   "execution_count": null,
   "id": "70b3a88f-dc7c-4fcc-8af2-d15f5a3f0fcc",
   "metadata": {},
   "outputs": [],
   "source": [
    "# Create a list with historical observations:\n",
    "historical_dfs = [df_1920, df_2021, df_2122, df_2223]\n",
    "\n",
    "# Create a list with seasons of the observations:\n",
    "seasons = [\"2019-2020\", \"2020-2021\", \"2021-2022\", \"2022-2023\"]\n",
    "\n",
    "# Iterate through historical_dfs and calculate the mean for each season:\n",
    "list_of_seasons = []\n",
    "for df in historical_dfs:  \n",
    "    season_mean = df[\"Fouled per 40 Minutes\"].mean()  \n",
    "    list_of_seasons.append(season_mean)\n",
    "\n",
    "# Create the hypothesis df format:\n",
    "df_hypothesis = pd.DataFrame({\"Season\": seasons,\n",
    "                              \"Fouled per 40 Minutes\": list_of_seasons\n",
    "    \n",
    "})\n",
    "\n",
    "# Assign the degrees of freedom and the sample size to a variable:\n",
    "n = 4\n",
    "deg_fr = n -1\n",
    "\n",
    "# Calculate the mean and the standard deviation of all seasons:\n",
    "x, s = df_hypothesis[\"Fouled per 40 Minutes\"].aggregate([\"mean\", \"std\"])\n",
    "\n",
    "# Assign the mean of 2023-2024 season to μ:\n",
    "μ_0 = df_2324[\"Fouled per 40 Minutes\"].mean()\n",
    "\n",
    "# Calculate the standard error:\n",
    "standard_error = s / (n**0.5)"
   ]
  },
  {
   "cell_type": "markdown",
   "id": "d8386430-3046-4da7-8fff-bbc0d28738e0",
   "metadata": {},
   "source": [
    "### Null and Alternative Hypothesis\n",
    "The null hypothesis is that the mean of the season 2023-2024, $μ_0$, is not significantly smaller than the historical mean of the other seasons combined. This means:\n",
    "$$H_0: μ - μ_0 = 0$$  \n",
    "The alternative hypothesis is that the mean of the season 2023-2024, $μ_0$, is significantly smaller than the historical mean of the other seasons combined. This means:\n",
    "$$H_1: μ - μ_0 > 0$$  "
   ]
  },
  {
   "cell_type": "code",
   "execution_count": null,
   "id": "7460b2a2-8968-40c4-b84c-568a5750263a",
   "metadata": {},
   "outputs": [],
   "source": [
    "# Calculate T-Score:\n",
    "t_score = round((x - μ_0) / standard_error, 2)\n",
    "print(\"T-Score:\", t_score)\n",
    "\n",
    "# Calculate p-value for an one-tailed test:\n",
    "p = round(1 - t.cdf(t_score, deg_fr), 2)\n",
    "print(\"p-Value:\", p)"
   ]
  },
  {
   "cell_type": "markdown",
   "id": "84a6a5b1-f29f-40f6-aa24-625d1c2844d3",
   "metadata": {},
   "source": [
    "<div style=\"text-align: justify\">\n",
    "Since p value is greater than any of the common α values, we fail to reject the null hypothesis. This indicates that, despite the fact that the mean of 2023-2024 season is smaller than the historical mean, this difference should not be considered statistically significant. Therefore, the test above does not provide sufficient evidence to reject the null hypothesis.\n",
    "</div>"
   ]
  }
 ],
 "metadata": {
  "kernelspec": {
   "display_name": "Python 3 (ipykernel)",
   "language": "python",
   "name": "python3"
  },
  "language_info": {
   "codemirror_mode": {
    "name": "ipython",
    "version": 3
   },
   "file_extension": ".py",
   "mimetype": "text/x-python",
   "name": "python",
   "nbconvert_exporter": "python",
   "pygments_lexer": "ipython3",
   "version": "3.11.9"
  }
 },
 "nbformat": 4,
 "nbformat_minor": 5
}
